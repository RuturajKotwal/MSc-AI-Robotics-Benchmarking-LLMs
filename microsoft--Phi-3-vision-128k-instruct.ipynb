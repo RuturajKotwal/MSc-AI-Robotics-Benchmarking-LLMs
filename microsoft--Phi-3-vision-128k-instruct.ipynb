{
 "cells": [
  {
   "cell_type": "code",
   "execution_count": null,
   "id": "03363f84-4cf5-4cd7-b5ce-715007619605",
   "metadata": {},
   "outputs": [],
   "source": [
    "# !pip install flash_attn==2.5.8\n",
    "!pip install numpy==1.24.4\n",
    "!pip install Pillow==10.3.0\n",
    "!pip install Requests==2.31.0\n",
    "!pip install torch==2.3.0\n",
    "!pip install torchvision==0.18.0\n",
    "!pip install transformers==4.40.2"
   ]
  },
  {
   "cell_type": "code",
   "execution_count": null,
   "id": "68bc0a5f-5c7d-4fea-80c1-7b173e7857d8",
   "metadata": {},
   "outputs": [],
   "source": []
  }
 ],
 "metadata": {
  "kernelspec": {
   "display_name": "Python 3 (ipykernel)",
   "language": "python",
   "name": "python3"
  },
  "language_info": {
   "codemirror_mode": {
    "name": "ipython",
    "version": 3
   },
   "file_extension": ".py",
   "mimetype": "text/x-python",
   "name": "python",
   "nbconvert_exporter": "python",
   "pygments_lexer": "ipython3",
   "version": "3.10.12"
  }
 },
 "nbformat": 4,
 "nbformat_minor": 5
}
