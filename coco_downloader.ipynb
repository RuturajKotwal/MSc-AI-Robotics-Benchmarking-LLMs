{
 "cells": [
  {
   "cell_type": "code",
   "execution_count": 1,
   "id": "6e56ff0e-1ae4-4a20-86cb-04cf55aec0ad",
   "metadata": {},
   "outputs": [
    {
     "name": "stdout",
     "output_type": "stream",
     "text": [
      "--2024-06-25 08:42:46--  http://images.cocodataset.org/zips/val2017.zip\n",
      "Resolving images.cocodataset.org (images.cocodataset.org)... 3.5.28.98, 3.5.31.146, 3.5.7.153, ...\n",
      "Connecting to images.cocodataset.org (images.cocodataset.org)|3.5.28.98|:80... connected.\n",
      "HTTP request sent, awaiting response... 200 OK\n",
      "Length: 815585330 (778M) [application/zip]\n",
      "Saving to: ‘coco_val2017.zip’\n",
      "\n",
      "coco_val2017.zip    100%[===================>] 777.80M  23.9MB/s    in 34s     \n",
      "\n",
      "2024-06-25 08:43:21 (23.0 MB/s) - ‘coco_val2017.zip’ saved [815585330/815585330]\n",
      "\n",
      "--2024-06-25 08:43:21--  http://images.cocodataset.org/annotations/annotations_trainval2017.zip\n",
      "Resolving images.cocodataset.org (images.cocodataset.org)... 52.217.142.33, 54.231.135.209, 16.182.41.249, ...\n",
      "Connecting to images.cocodataset.org (images.cocodataset.org)|52.217.142.33|:80... connected.\n",
      "HTTP request sent, awaiting response... 200 OK\n",
      "Length: 252907541 (241M) [application/zip]\n",
      "Saving to: ‘coco_trainvalann2017.zip’\n",
      "\n",
      "coco_trainvalann201 100%[===================>] 241.19M  24.2MB/s    in 16s     \n",
      "\n",
      "2024-06-25 08:43:37 (15.5 MB/s) - ‘coco_trainvalann2017.zip’ saved [252907541/252907541]\n",
      "\n"
     ]
    }
   ],
   "source": [
    "!wget http://images.cocodataset.org/zips/val2017.zip -O coco_val2017.zip\n",
    "!wget http://images.cocodataset.org/annotations/annotations_trainval2017.zip -O coco_trainvalann2017.zip"
   ]
  },
  {
   "cell_type": "code",
   "execution_count": 2,
   "id": "0830344a-daff-40d1-a62d-3ef4832cfbe1",
   "metadata": {},
   "outputs": [],
   "source": [
    "from zipfile import ZipFile, BadZipFile\n",
    "import os\n",
    "\n",
    "def extract_zip_file(extract_path):\n",
    "    try:\n",
    "        with ZipFile(extract_path+\".zip\") as zfile:\n",
    "            zfile.extractall(extract_path)\n",
    "\n",
    "        # remove zipfile\n",
    "        zfileTOremove=f\"{extract_path}\"+\".zip\"\n",
    "        if os.path.isfile(zfileTOremove):\n",
    "            os.remove(zfileTOremove)\n",
    "        else:\n",
    "            print(\"Error: %s file not found\" % zfileTOremove)    \n",
    "\n",
    "    except BadZipFile as e:\n",
    "        print(\"Error:\", e)\n",
    "\n",
    "\n",
    "extract_val_path = \"./coco_val2017\"\n",
    "extract_ann_path=\"./coco_trainvalann2017\"\n",
    "\n",
    "extract_zip_file(extract_val_path)\n",
    "extract_zip_file(extract_ann_path)"
   ]
  },
  {
   "cell_type": "code",
   "execution_count": 2,
   "id": "9b096ba4-737a-4f11-8b8c-502bc99ebbf0",
   "metadata": {},
   "outputs": [
    {
     "name": "stdout",
     "output_type": "stream",
     "text": [
      "Looking in indexes: https://nexus.iisys.de/repository/ki-awz-pypi-group/simple, https://pypi.org/simple\n",
      "Collecting kaggle\n",
      "  Downloading kaggle-1.6.14.tar.gz (82 kB)\n",
      "\u001b[2K     \u001b[90m━━━━━━━━━━━━━━━━━━━━━━━━━━━━━━━━━━━━━━━━\u001b[0m \u001b[32m82.1/82.1 kB\u001b[0m \u001b[31m2.4 MB/s\u001b[0m eta \u001b[36m0:00:00\u001b[0m\n",
      "\u001b[?25h  Preparing metadata (setup.py) ... \u001b[?25ldone\n",
      "\u001b[?25hRequirement already satisfied: six>=1.10 in /opt/conda/lib/python3.10/site-packages (from kaggle) (1.16.0)\n",
      "Requirement already satisfied: certifi>=2023.7.22 in /opt/conda/lib/python3.10/site-packages (from kaggle) (2023.7.22)\n",
      "Requirement already satisfied: python-dateutil in /opt/conda/lib/python3.10/site-packages (from kaggle) (2.8.2)\n",
      "Requirement already satisfied: requests in /opt/conda/lib/python3.10/site-packages (from kaggle) (2.31.0)\n",
      "Requirement already satisfied: tqdm in /opt/conda/lib/python3.10/site-packages (from kaggle) (4.66.1)\n",
      "Collecting python-slugify (from kaggle)\n",
      "  Obtaining dependency information for python-slugify from https://files.pythonhosted.org/packages/a4/62/02da182e544a51a5c3ccf4b03ab79df279f9c60c5e82d5e8bec7ca26ac11/python_slugify-8.0.4-py2.py3-none-any.whl.metadata\n",
      "  Downloading python_slugify-8.0.4-py2.py3-none-any.whl.metadata (8.5 kB)\n",
      "Requirement already satisfied: urllib3 in /opt/conda/lib/python3.10/site-packages (from kaggle) (2.0.4)\n",
      "Requirement already satisfied: bleach in /opt/conda/lib/python3.10/site-packages (from kaggle) (6.0.0)\n",
      "Requirement already satisfied: webencodings in /opt/conda/lib/python3.10/site-packages (from bleach->kaggle) (0.5.1)\n",
      "Collecting text-unidecode>=1.3 (from python-slugify->kaggle)\n",
      "  Obtaining dependency information for text-unidecode>=1.3 from https://files.pythonhosted.org/packages/a6/a5/c0b6468d3824fe3fde30dbb5e1f687b291608f9473681bbf7dabbf5a87d7/text_unidecode-1.3-py2.py3-none-any.whl.metadata\n",
      "  Downloading text_unidecode-1.3-py2.py3-none-any.whl.metadata (2.4 kB)\n",
      "Requirement already satisfied: charset-normalizer<4,>=2 in /opt/conda/lib/python3.10/site-packages (from requests->kaggle) (3.2.0)\n",
      "Requirement already satisfied: idna<4,>=2.5 in /opt/conda/lib/python3.10/site-packages (from requests->kaggle) (3.4)\n",
      "Downloading python_slugify-8.0.4-py2.py3-none-any.whl (10 kB)\n",
      "Downloading text_unidecode-1.3-py2.py3-none-any.whl (78 kB)\n",
      "\u001b[2K   \u001b[90m━━━━━━━━━━━━━━━━━━━━━━━━━━━━━━━━━━━━━━━━\u001b[0m \u001b[32m78.2/78.2 kB\u001b[0m \u001b[31m9.7 MB/s\u001b[0m eta \u001b[36m0:00:00\u001b[0m\n",
      "\u001b[?25hBuilding wheels for collected packages: kaggle\n",
      "  Building wheel for kaggle (setup.py) ... \u001b[?25ldone\n",
      "\u001b[?25h  Created wheel for kaggle: filename=kaggle-1.6.14-py3-none-any.whl size=105120 sha256=7b2dd7e0c40735d0d36f7dde32662bb0b4433f189bdd975b47e38b5019989bc3\n",
      "  Stored in directory: /home/jovyan/.cache/pip/wheels/d7/54/06/8a8f40cb39536605feb9acaacd0237a95eba39e5065e6392f4\n",
      "Successfully built kaggle\n",
      "Installing collected packages: text-unidecode, python-slugify, kaggle\n",
      "Successfully installed kaggle-1.6.14 python-slugify-8.0.4 text-unidecode-1.3\n"
     ]
    }
   ],
   "source": [
    "!pip install kaggle"
   ]
  },
  {
   "cell_type": "code",
   "execution_count": 4,
   "id": "5edebf6d-7ede-4f38-8989-112f402e9355",
   "metadata": {},
   "outputs": [
    {
     "ename": "SyntaxError",
     "evalue": "invalid syntax (1137050172.py, line 1)",
     "output_type": "error",
     "traceback": [
      "\u001b[0;36m  Cell \u001b[0;32mIn[4], line 1\u001b[0;36m\u001b[0m\n\u001b[0;31m    kaggle competitions download -c imagenet-object-localization-challenge\u001b[0m\n\u001b[0m           ^\u001b[0m\n\u001b[0;31mSyntaxError\u001b[0m\u001b[0;31m:\u001b[0m invalid syntax\n"
     ]
    }
   ],
   "source": [
    "kaggle competitions download -c imagenet-object-localization-challenge"
   ]
  },
  {
   "cell_type": "code",
   "execution_count": 9,
   "id": "1bfdf549-4db9-47f2-9635-6f5dfa85b4bd",
   "metadata": {},
   "outputs": [
    {
     "name": "stdout",
     "output_type": "stream",
     "text": [
      "Traceback (most recent call last):\n",
      "  File \"/opt/conda/bin/kaggle\", line 5, in <module>\n",
      "    from kaggle.cli import main\n",
      "  File \"/opt/conda/lib/python3.10/site-packages/kaggle/__init__.py\", line 7, in <module>\n",
      "    api.authenticate()\n",
      "  File \"/opt/conda/lib/python3.10/site-packages/kaggle/api/kaggle_api_extended.py\", line 398, in authenticate\n",
      "    raise IOError('Could not find {}. Make sure it\\'s located in'\n",
      "OSError: Could not find kaggle.json. Make sure it's located in /home/jovyan/.kaggle. Or use the environment method.\n"
     ]
    }
   ],
   "source": [
    "!kaggle competitions list"
   ]
  },
  {
   "cell_type": "code",
   "execution_count": null,
   "id": "fc04e569-0dc9-4011-950f-87978acf4f90",
   "metadata": {},
   "outputs": [],
   "source": []
  }
 ],
 "metadata": {
  "kernelspec": {
   "display_name": "Python 3 (ipykernel)",
   "language": "python",
   "name": "python3"
  },
  "language_info": {
   "codemirror_mode": {
    "name": "ipython",
    "version": 3
   },
   "file_extension": ".py",
   "mimetype": "text/x-python",
   "name": "python",
   "nbconvert_exporter": "python",
   "pygments_lexer": "ipython3",
   "version": "3.10.12"
  }
 },
 "nbformat": 4,
 "nbformat_minor": 5
}
